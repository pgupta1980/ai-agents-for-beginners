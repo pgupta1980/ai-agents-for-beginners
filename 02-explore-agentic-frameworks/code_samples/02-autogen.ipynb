{
  "cells": [
    {
      "cell_type": "markdown",
      "metadata": {
        "id": "view-in-github",
        "colab_type": "text"
      },
      "source": [
        "<a href=\"https://colab.research.google.com/github/pgupta1980/ai-agents-for-beginners/blob/main/02-explore-agentic-frameworks/code_samples/02-autogen.ipynb\" target=\"_parent\"><img src=\"https://colab.research.google.com/assets/colab-badge.svg\" alt=\"Open In Colab\"/></a>"
      ]
    },
    {
      "cell_type": "markdown",
      "metadata": {
        "id": "fBX9Ayf5XpF0"
      },
      "source": [
        "# AutoGen Basic Sample\n",
        "\n",
        "In this code sample, you will use the [AutoGen](https://aka.ms/ai-agents/autogen) AI Framework to create a basic agent.\n",
        "\n",
        "The goal of this sample is to show you the steps that we will later use in the addtional code samples when implementing the different agentic patterns."
      ]
    },
    {
      "cell_type": "markdown",
      "metadata": {
        "id": "oXprGemuXpF1"
      },
      "source": [
        "## Import the Needed Python Packages"
      ]
    },
    {
      "cell_type": "code",
      "source": [
        "!pip install autogen pip autogen-agentchat autogen-ext[openai] autogen-ext[azure]"
      ],
      "metadata": {
        "id": "O-JE_aZYXxaL",
        "outputId": "37a0e002-ae76-47ad-b6cc-85a30ffe5530",
        "colab": {
          "base_uri": "https://localhost:8080/"
        }
      },
      "execution_count": 4,
      "outputs": [
        {
          "output_type": "stream",
          "name": "stdout",
          "text": [
            "Requirement already satisfied: autogen in /usr/local/lib/python3.11/dist-packages (0.8.0)\n",
            "Requirement already satisfied: pip in /usr/local/lib/python3.11/dist-packages (24.1.2)\n",
            "Requirement already satisfied: autogen-agentchat in /usr/local/lib/python3.11/dist-packages (0.4.8.2)\n",
            "Requirement already satisfied: autogen-ext[openai] in /usr/local/lib/python3.11/dist-packages (0.4.8.2)\n",
            "Requirement already satisfied: pyautogen==0.8.0 in /usr/local/lib/python3.11/dist-packages (from autogen) (0.8.0)\n",
            "Requirement already satisfied: asyncer==0.0.8 in /usr/local/lib/python3.11/dist-packages (from pyautogen==0.8.0->autogen) (0.0.8)\n",
            "Requirement already satisfied: diskcache in /usr/local/lib/python3.11/dist-packages (from pyautogen==0.8.0->autogen) (5.6.3)\n",
            "Requirement already satisfied: docker in /usr/local/lib/python3.11/dist-packages (from pyautogen==0.8.0->autogen) (7.1.0)\n",
            "Requirement already satisfied: fast-depends<3,>=2.4.12 in /usr/local/lib/python3.11/dist-packages (from pyautogen==0.8.0->autogen) (2.4.12)\n",
            "Requirement already satisfied: httpx<1,>=0.28.1 in /usr/local/lib/python3.11/dist-packages (from pyautogen==0.8.0->autogen) (0.28.1)\n",
            "Requirement already satisfied: packaging in /usr/local/lib/python3.11/dist-packages (from pyautogen==0.8.0->autogen) (24.2)\n",
            "Requirement already satisfied: pydantic<3,>=2.6.1 in /usr/local/lib/python3.11/dist-packages (from pyautogen==0.8.0->autogen) (2.10.6)\n",
            "Requirement already satisfied: python-dotenv in /usr/local/lib/python3.11/dist-packages (from pyautogen==0.8.0->autogen) (1.0.1)\n",
            "Requirement already satisfied: termcolor in /usr/local/lib/python3.11/dist-packages (from pyautogen==0.8.0->autogen) (2.5.0)\n",
            "Requirement already satisfied: tiktoken in /usr/local/lib/python3.11/dist-packages (from pyautogen==0.8.0->autogen) (0.9.0)\n",
            "Requirement already satisfied: anyio<5.0,>=3.4.0 in /usr/local/lib/python3.11/dist-packages (from asyncer==0.0.8->pyautogen==0.8.0->autogen) (3.7.1)\n",
            "Requirement already satisfied: autogen-core==0.4.8.2 in /usr/local/lib/python3.11/dist-packages (from autogen-agentchat) (0.4.8.2)\n",
            "Requirement already satisfied: jsonref~=1.1.0 in /usr/local/lib/python3.11/dist-packages (from autogen-core==0.4.8.2->autogen-agentchat) (1.1.0)\n",
            "Requirement already satisfied: opentelemetry-api>=1.27.0 in /usr/local/lib/python3.11/dist-packages (from autogen-core==0.4.8.2->autogen-agentchat) (1.30.0)\n",
            "Requirement already satisfied: pillow>=11.0.0 in /usr/local/lib/python3.11/dist-packages (from autogen-core==0.4.8.2->autogen-agentchat) (11.1.0)\n",
            "Requirement already satisfied: protobuf~=5.29.3 in /usr/local/lib/python3.11/dist-packages (from autogen-core==0.4.8.2->autogen-agentchat) (5.29.3)\n",
            "Requirement already satisfied: typing-extensions>=4.0.0 in /usr/local/lib/python3.11/dist-packages (from autogen-core==0.4.8.2->autogen-agentchat) (4.12.2)\n",
            "Requirement already satisfied: aiofiles in /usr/local/lib/python3.11/dist-packages (from autogen-ext[openai]) (24.1.0)\n",
            "Requirement already satisfied: openai>=1.52.2 in /usr/local/lib/python3.11/dist-packages (from autogen-ext[openai]) (1.61.1)\n",
            "Collecting azure-ai-inference>=1.0.0b7 (from autogen-ext[azure])\n",
            "  Downloading azure_ai_inference-1.0.0b9-py3-none-any.whl.metadata (34 kB)\n",
            "Collecting azure-core (from autogen-ext[azure])\n",
            "  Downloading azure_core-1.32.0-py3-none-any.whl.metadata (39 kB)\n",
            "Collecting azure-identity (from autogen-ext[azure])\n",
            "  Downloading azure_identity-1.20.0-py3-none-any.whl.metadata (81 kB)\n",
            "\u001b[2K     \u001b[90m━━━━━━━━━━━━━━━━━━━━━━━━━━━━━━━━━━━━━━━━\u001b[0m \u001b[32m81.2/81.2 kB\u001b[0m \u001b[31m3.6 MB/s\u001b[0m eta \u001b[36m0:00:00\u001b[0m\n",
            "\u001b[?25hCollecting isodate>=0.6.1 (from azure-ai-inference>=1.0.0b7->autogen-ext[azure])\n",
            "  Downloading isodate-0.7.2-py3-none-any.whl.metadata (11 kB)\n",
            "Requirement already satisfied: requests>=2.21.0 in /usr/local/lib/python3.11/dist-packages (from azure-core->autogen-ext[azure]) (2.32.3)\n",
            "Requirement already satisfied: six>=1.11.0 in /usr/local/lib/python3.11/dist-packages (from azure-core->autogen-ext[azure]) (1.17.0)\n",
            "Requirement already satisfied: distro<2,>=1.7.0 in /usr/local/lib/python3.11/dist-packages (from openai>=1.52.2->autogen-ext[openai]) (1.9.0)\n",
            "Requirement already satisfied: jiter<1,>=0.4.0 in /usr/local/lib/python3.11/dist-packages (from openai>=1.52.2->autogen-ext[openai]) (0.8.2)\n",
            "Requirement already satisfied: sniffio in /usr/local/lib/python3.11/dist-packages (from openai>=1.52.2->autogen-ext[openai]) (1.3.1)\n",
            "Requirement already satisfied: tqdm>4 in /usr/local/lib/python3.11/dist-packages (from openai>=1.52.2->autogen-ext[openai]) (4.67.1)\n",
            "Requirement already satisfied: regex>=2022.1.18 in /usr/local/lib/python3.11/dist-packages (from tiktoken->pyautogen==0.8.0->autogen) (2024.11.6)\n",
            "Requirement already satisfied: cryptography>=2.5 in /usr/local/lib/python3.11/dist-packages (from azure-identity->autogen-ext[azure]) (43.0.3)\n",
            "Collecting msal>=1.30.0 (from azure-identity->autogen-ext[azure])\n",
            "  Downloading msal-1.31.1-py3-none-any.whl.metadata (11 kB)\n",
            "Collecting msal-extensions>=1.2.0 (from azure-identity->autogen-ext[azure])\n",
            "  Downloading msal_extensions-1.2.0-py3-none-any.whl.metadata (7.6 kB)\n",
            "Requirement already satisfied: idna>=2.8 in /usr/local/lib/python3.11/dist-packages (from anyio<5.0,>=3.4.0->asyncer==0.0.8->pyautogen==0.8.0->autogen) (3.10)\n",
            "Requirement already satisfied: cffi>=1.12 in /usr/local/lib/python3.11/dist-packages (from cryptography>=2.5->azure-identity->autogen-ext[azure]) (1.17.1)\n",
            "Requirement already satisfied: certifi in /usr/local/lib/python3.11/dist-packages (from httpx<1,>=0.28.1->pyautogen==0.8.0->autogen) (2025.1.31)\n",
            "Requirement already satisfied: httpcore==1.* in /usr/local/lib/python3.11/dist-packages (from httpx<1,>=0.28.1->pyautogen==0.8.0->autogen) (1.0.7)\n",
            "Requirement already satisfied: h11<0.15,>=0.13 in /usr/local/lib/python3.11/dist-packages (from httpcore==1.*->httpx<1,>=0.28.1->pyautogen==0.8.0->autogen) (0.14.0)\n",
            "Requirement already satisfied: PyJWT<3,>=1.0.0 in /usr/local/lib/python3.11/dist-packages (from PyJWT[crypto]<3,>=1.0.0->msal>=1.30.0->azure-identity->autogen-ext[azure]) (2.10.1)\n",
            "Collecting portalocker<3,>=1.4 (from msal-extensions>=1.2.0->azure-identity->autogen-ext[azure])\n",
            "  Downloading portalocker-2.10.1-py3-none-any.whl.metadata (8.5 kB)\n",
            "Requirement already satisfied: deprecated>=1.2.6 in /usr/local/lib/python3.11/dist-packages (from opentelemetry-api>=1.27.0->autogen-core==0.4.8.2->autogen-agentchat) (1.2.18)\n",
            "Requirement already satisfied: importlib-metadata<=8.5.0,>=6.0 in /usr/local/lib/python3.11/dist-packages (from opentelemetry-api>=1.27.0->autogen-core==0.4.8.2->autogen-agentchat) (8.5.0)\n",
            "Requirement already satisfied: annotated-types>=0.6.0 in /usr/local/lib/python3.11/dist-packages (from pydantic<3,>=2.6.1->pyautogen==0.8.0->autogen) (0.7.0)\n",
            "Requirement already satisfied: pydantic-core==2.27.2 in /usr/local/lib/python3.11/dist-packages (from pydantic<3,>=2.6.1->pyautogen==0.8.0->autogen) (2.27.2)\n",
            "Requirement already satisfied: charset-normalizer<4,>=2 in /usr/local/lib/python3.11/dist-packages (from requests>=2.21.0->azure-core->autogen-ext[azure]) (3.4.1)\n",
            "Requirement already satisfied: urllib3<3,>=1.21.1 in /usr/local/lib/python3.11/dist-packages (from requests>=2.21.0->azure-core->autogen-ext[azure]) (2.3.0)\n",
            "Requirement already satisfied: pycparser in /usr/local/lib/python3.11/dist-packages (from cffi>=1.12->cryptography>=2.5->azure-identity->autogen-ext[azure]) (2.22)\n",
            "Requirement already satisfied: wrapt<2,>=1.10 in /usr/local/lib/python3.11/dist-packages (from deprecated>=1.2.6->opentelemetry-api>=1.27.0->autogen-core==0.4.8.2->autogen-agentchat) (1.17.2)\n",
            "Requirement already satisfied: zipp>=3.20 in /usr/local/lib/python3.11/dist-packages (from importlib-metadata<=8.5.0,>=6.0->opentelemetry-api>=1.27.0->autogen-core==0.4.8.2->autogen-agentchat) (3.21.0)\n",
            "Downloading azure_ai_inference-1.0.0b9-py3-none-any.whl (124 kB)\n",
            "\u001b[2K   \u001b[90m━━━━━━━━━━━━━━━━━━━━━━━━━━━━━━━━━━━━━━━━\u001b[0m \u001b[32m124.9/124.9 kB\u001b[0m \u001b[31m8.2 MB/s\u001b[0m eta \u001b[36m0:00:00\u001b[0m\n",
            "\u001b[?25hDownloading azure_core-1.32.0-py3-none-any.whl (198 kB)\n",
            "\u001b[2K   \u001b[90m━━━━━━━━━━━━━━━━━━━━━━━━━━━━━━━━━━━━━━━━\u001b[0m \u001b[32m198.9/198.9 kB\u001b[0m \u001b[31m9.2 MB/s\u001b[0m eta \u001b[36m0:00:00\u001b[0m\n",
            "\u001b[?25hDownloading azure_identity-1.20.0-py3-none-any.whl (188 kB)\n",
            "\u001b[2K   \u001b[90m━━━━━━━━━━━━━━━━━━━━━━━━━━━━━━━━━━━━━━━━\u001b[0m \u001b[32m188.2/188.2 kB\u001b[0m \u001b[31m9.2 MB/s\u001b[0m eta \u001b[36m0:00:00\u001b[0m\n",
            "\u001b[?25hDownloading isodate-0.7.2-py3-none-any.whl (22 kB)\n",
            "Downloading msal-1.31.1-py3-none-any.whl (113 kB)\n",
            "\u001b[2K   \u001b[90m━━━━━━━━━━━━━━━━━━━━━━━━━━━━━━━━━━━━━━━━\u001b[0m \u001b[32m113.2/113.2 kB\u001b[0m \u001b[31m5.6 MB/s\u001b[0m eta \u001b[36m0:00:00\u001b[0m\n",
            "\u001b[?25hDownloading msal_extensions-1.2.0-py3-none-any.whl (19 kB)\n",
            "Downloading portalocker-2.10.1-py3-none-any.whl (18 kB)\n",
            "Installing collected packages: portalocker, isodate, azure-core, azure-ai-inference, msal, msal-extensions, azure-identity\n",
            "Successfully installed azure-ai-inference-1.0.0b9 azure-core-1.32.0 azure-identity-1.20.0 isodate-0.7.2 msal-1.31.1 msal-extensions-1.2.0 portalocker-2.10.1\n"
          ]
        }
      ]
    },
    {
      "cell_type": "code",
      "execution_count": 5,
      "metadata": {
        "id": "p0ljzLHZXpF1"
      },
      "outputs": [],
      "source": [
        "import os\n",
        "\n",
        "from autogen_agentchat.agents import AssistantAgent\n",
        "from autogen_core.models import UserMessage\n",
        "from autogen_ext.models.azure import AzureAIChatCompletionClient\n",
        "from azure.core.credentials import AzureKeyCredential\n",
        "from autogen_core import CancellationToken\n",
        "\n",
        "from autogen_agentchat.messages import TextMessage\n",
        "from autogen_agentchat.ui import Console\n"
      ]
    },
    {
      "cell_type": "markdown",
      "metadata": {
        "id": "Ij-teNYsXpF2"
      },
      "source": [
        "## Create the Client\n",
        "\n",
        "In this sample, we will use [GitHub Models](https://aka.ms/ai-agents-beginners/github-models) for access to the LLM.\n",
        "\n",
        "The `model` is defined as `gpt-4o-mini`. Try changing the model to another model available on the GitHub Models marketplace to see the different results.\n",
        "\n",
        "As a quick test, we will just run a simple prompt - `What is the capital of France`."
      ]
    },
    {
      "cell_type": "code",
      "source": [
        "from google.colab import userdata\n",
        "import os\n",
        "os.environ[\"GITHUB_TOKEN\"] = userdata.get('GITHUB_TOKEN')"
      ],
      "metadata": {
        "id": "zzzCcjO-ZL5W"
      },
      "execution_count": 6,
      "outputs": []
    },
    {
      "cell_type": "code",
      "execution_count": 7,
      "metadata": {
        "id": "V152dcS1XpF2",
        "outputId": "6db2fda9-2c50-4484-9a9f-d63680a283bd",
        "colab": {
          "base_uri": "https://localhost:8080/"
        }
      },
      "outputs": [
        {
          "output_type": "stream",
          "name": "stdout",
          "text": [
            "finish_reason='stop' content='The capital of France is Paris.' usage=RequestUsage(prompt_tokens=14, completion_tokens=7) cached=False logprobs=None thought=None\n"
          ]
        }
      ],
      "source": [
        "client = AzureAIChatCompletionClient(\n",
        "    model=\"gpt-4o-mini\",\n",
        "    endpoint=\"https://models.inference.ai.azure.com\",\n",
        "    # To authenticate with the model you will need to generate a personal access token (PAT) in your GitHub settings.\n",
        "    # Create your PAT token by following instructions here: https://docs.github.com/en/authentication/keeping-your-account-and-data-secure/managing-your-personal-access-tokens\n",
        "    credential=AzureKeyCredential(os.environ[\"GITHUB_TOKEN\"]),\n",
        "    model_info={\n",
        "        \"json_output\": True,\n",
        "        \"function_calling\": True,\n",
        "        \"vision\": True,\n",
        "        \"family\": \"unknown\",\n",
        "    },\n",
        ")\n",
        "\n",
        "result = await client.create([UserMessage(content=\"What is the capital of France?\", source=\"user\")])\n",
        "print(result)"
      ]
    },
    {
      "cell_type": "markdown",
      "metadata": {
        "id": "6niTjxAFXpF3"
      },
      "source": [
        "## Defining the Agent\n",
        "\n",
        "Now that we have set up the `client` and confirmed that it is working, let us create an `AssistantAgent`. Each agent can be assigned a:\n",
        "**name** - A short hand name that will be useful in referencing it in multi-agent flows.\n",
        "**model_client** - The client that you created in the earlier step.\n",
        "**tools** - Available tools that the Agent can use to complete a task.\n",
        "**system_message** - The metaprompt that defines the task, behavior and tone of the LLM.\n",
        "\n",
        "You can change the system message to see how the LLM responds. We will cover `tools` in Lesson #4.\n"
      ]
    },
    {
      "cell_type": "code",
      "execution_count": 11,
      "metadata": {
        "id": "7r67r2T2XpF3"
      },
      "outputs": [],
      "source": [
        "agent = AssistantAgent(\n",
        "    name=\"assistant\",\n",
        "    model_client=client,\n",
        "    tools=[],\n",
        "    system_message=\"You are a travel agent that plans great vacations\",\n",
        ")"
      ]
    },
    {
      "cell_type": "markdown",
      "metadata": {
        "id": "tGgYqRFoXpF3"
      },
      "source": [
        "## Run the Agent\n",
        "\n",
        "The below function will run the agent. We use the the `on_message` method to update the Agent's state with the new message.\n",
        "\n",
        "In this case, we update the state with a new message from the user which is `\"Plan me a great sunny vacation\"`.\n",
        "\n",
        "You can change the message content to see how the LLM responds differently."
      ]
    },
    {
      "cell_type": "code",
      "execution_count": 9,
      "metadata": {
        "id": "Y98lo1HEXpF3",
        "outputId": "a0b6c7c9-b01c-46da-fe79-da407d895de2",
        "colab": {
          "base_uri": "https://localhost:8080/"
        }
      },
      "outputs": [
        {
          "output_type": "stream",
          "name": "stdout",
          "text": [
            "[]\n",
            "source='assistant' models_usage=RequestUsage(prompt_tokens=26, completion_tokens=675) metadata={} content=\"Sure! Here’s a plan for a sunny vacation that offers relaxation, adventure, and beautiful scenery. Let's consider a 7-day getaway to San Diego, California, which is known for its stunning beaches, vibrant culture, and pleasant weather year-round.\\n\\n### Destination: San Diego, California\\n\\n#### Day 1: Arrival\\n- **Morning:** Arrive at San Diego International Airport and check into your hotel (recommendations: Hotel del Coronado for a luxury experience or a beachfront Airbnb).\\n- **Afternoon:** Relax at Coronado Beach. Enjoy the sun and beautiful views of the Pacific Ocean.\\n- **Evening:** Dinner at Peohe's, a waterfront restaurant with stunning sunset views.\\n\\n#### Day 2: Explore Balboa Park\\n- **Morning:** Breakfast at The Cottage in La Jolla. \\n- **Day:** Spend the day at Balboa Park. Visit the San Diego Zoo (highly recommended) and explore various museums such as the Museum of Man or the Botanical Building.\\n- **Evening:** Dinner at The Prado in Balboa Park.\\n\\n#### Day 3: La Jolla Adventure\\n- **Morning:** Kayaking in La Jolla Cove. Look out for sea lions and explore the caves.\\n- **Afternoon:** Snorkeling or swimming in the warm waters. Lunch at George’s at the Cove for ocean-view dining.\\n- **Evening:** Stroll along La Jolla Shores and enjoy a casual dinner at The Fish Market.\\n\\n#### Day 4: Beach Day\\n- **Morning:** Relax at Mission Beach. Rent bikes or rollerblades and ride along the boardwalk.\\n- **Afternoon:** Enjoy lunch at a beachfront café, then spend the afternoon at Belmont Park. Try the Giant Dipper Roller Coaster or enjoy the arcade.\\n- **Evening:** Dinner at Bay Park Fish Company for some fresh seafood.\\n\\n#### Day 5: Day Trip to Tijuana, Mexico\\n- **Morning:** Take a guided tour or drive down to Tijuana. Be sure to bring your passport!\\n- **Day:** Explore the local culture, shopping, and delicious street tacos. Visit the famous Avenida Revolución and stop by the Tijuana Cultural Center.\\n- **Evening:** Return to San Diego. Dinner at Cantina Mayahuel for authentic Mexican cuisine.\\n\\n#### Day 6: Sailing and Sunset\\n- **Morning:** Take a sailing lesson or a whale watching tour (seasonal) from the San Diego Harbor.\\n- **Afternoon:** Early lunch at the harbor, then visit the USS Midway Museum.\\n- **Evening:** Sunset dinner cruise around the bay with views of the skyline and the Coronado Bridge.\\n\\n#### Day 7: Departure\\n- **Morning:** Enjoy a leisurely breakfast at a local café (try Breakfast Republic).\\n- **Midday:** Last-minute shopping or beach time at Ocean Beach before heading back to the airport for your departure.\\n\\n### Tips:\\n- **Weather:** San Diego has plenty of sunshine, but pack a light jacket for cooler evenings.\\n- **Transportation:** Consider renting a car for convenient access to all attractions.\\n- **Activities:** Make reservations for tours and popular restaurants in advance to avoid long waits.\\n\\nThis itinerary allows you to enjoy the sun, beautiful scenery, and a mix of adventure and relaxation. If you have any preferences or want to adjust specifics, let me know!\" type='TextMessage'\n"
          ]
        }
      ],
      "source": [
        "async def assistant_run() -> None:\n",
        "    response = await agent.on_messages(\n",
        "        [TextMessage(content=\"Plan me a great sunny vacation\", source=\"user\")],\n",
        "        cancellation_token=CancellationToken(),\n",
        "    )\n",
        "    print(response.inner_messages)\n",
        "    print(response.chat_message)\n",
        "\n",
        "\n",
        "# Use asyncio.run(assistant_run()) when running in a script.\n",
        "await assistant_run()"
      ]
    },
    {
      "cell_type": "code",
      "source": [
        "from pprint import pprint\n",
        "\n",
        "async def assistant_run() -> None:\n",
        "    response = await agent.on_messages(\n",
        "        [TextMessage(content=\"Plan me a great windy and haunted vacation\", source=\"user\")],\n",
        "        cancellation_token=CancellationToken(),\n",
        "    )\n",
        "    # print(response.inner_messages)\n",
        "    # print(response.chat_message)\n",
        "    pprint(response.inner_messages)\n",
        "    pprint(response.chat_message)\n",
        "\n",
        "# Use asyncio.run(assistant_run()) when running in a script.\n",
        "await assistant_run()\n",
        "\n",
        "# pprint(agent.state_manager.state)\n"
      ],
      "metadata": {
        "id": "hXa6neyxaAJI",
        "outputId": "abd37dc2-1135-4e9c-b27e-027a5b1a6da5",
        "colab": {
          "base_uri": "https://localhost:8080/"
        }
      },
      "execution_count": 13,
      "outputs": [
        {
          "output_type": "stream",
          "name": "stdout",
          "text": [
            "[]\n",
            "TextMessage(source='assistant', models_usage=RequestUsage(prompt_tokens=704, completion_tokens=667), metadata={}, content=\"Absolutely! Here’s a thrilling itinerary for a vacation that features both windy coastal landscapes and haunted locales. \\n\\n### Destination: **Savannah, Georgia, and Tybee Island**\\n\\n#### Duration: **5 Days**\\n\\n---\\n\\n### Day 1: Arrival in Savannah\\n- **Flight:** Arrive at Savannah/Hilton Head International Airport.\\n- **Accommodation:** Check into a historic (and potentially haunted) hotel like the **Belford Inn** or **The Marshall House**.\\n- **Evening:** Take a leisurely stroll along the Savannah Riverwalk. Dinner at **The Olde Pink House**, a historic restaurant with a ghostly reputation.\\n\\n### Day 2: Savannah’s Historic District\\n- **Morning:** Begin your day with a guided tour of the Savannah Historic District. Visit Waving Girl Statue and Forsyth Park.\\n- **Afternoon:** Join a ghost tour like **Savannah Ghost Tours** or **Haunted History Tours**; explore ghostly tales and chilling history around the city.\\n- **Evening:** Dinner at **The Grey**, a former Greyhound bus station turned restaurant.\\n\\n### Day 3: Haunted History & Windy Beaches\\n- **Morning:** Visit the **Bonaventure Cemetery** (known for its haunting beauty), with live oaks draped in Spanish moss—definitely a windy spot! \\n- **Afternoon:** Head to **Tybee Island** (about a 30-minute drive), known for its breezy beaches. You can enjoy the wind from the beach, try water sports, or visit the **Tybee Island Light Station and Museum**.\\n- **Evening:** Dine at **The Crab Shack**, which has a fun and relaxed atmosphere. Keep an eye out for ghost stories linked to the island!\\n\\n### Day 4: Ghost Hunting and Exploration\\n- **Morning:** Explore the **Fort Pulaski National Monument** where you can learn about its history and pass through the windswept grounds.\\n- **Afternoon:** Enjoy a lunch of fresh seafood at **A-J’s Dockside** and then visit the **Tybee Island Historical Society**. \\n- **Evening:** Book a **Nighttime Ghost Tour** on Tybee Island to explore the darker side of its history, learning tales of haunted lighthouses and eerie shipwrecks.\\n\\n### Day 5: Departure\\n- **Morning:** Enjoy a final stroll on Tybee Island’s beach and search for seashells or simply relish the windy coastal area.\\n- **Afternoon:** Head back to Savannah for a few last sights or a quick lunch at a local café, like **Brewed Awakening**.\\n- **Evening:** Depart from Savannah/Hilton Head International Airport.\\n\\n---\\n\\n### Additional Recommendations:\\n- **What to Pack:** Comfortable walking shoes, a light jacket (it can get windy!), and essentials for the beach.\\n- **Best Time to Visit:** Late fall or spring for pleasant weather; both are often less humid and have fewer tourists.\\n- **Must-See Haunted Spots:** Consider visiting the Hamilton-Turner Inn and the Pirates' House—both known for their ghostly legends.\\n\\nThis itinerary provides a mix of history, ghostly encounters, and beautiful, windy seaside scenery! Let me know if you’d like any adjustments or additional information on any aspect.\", type='TextMessage')\n"
          ]
        }
      ]
    }
  ],
  "metadata": {
    "kernelspec": {
      "display_name": ".venv",
      "language": "python",
      "name": "python3"
    },
    "language_info": {
      "codemirror_mode": {
        "name": "ipython",
        "version": 3
      },
      "file_extension": ".py",
      "mimetype": "text/x-python",
      "name": "python",
      "nbconvert_exporter": "python",
      "pygments_lexer": "ipython3",
      "version": "3.13.1"
    },
    "colab": {
      "provenance": [],
      "include_colab_link": true
    }
  },
  "nbformat": 4,
  "nbformat_minor": 0
}