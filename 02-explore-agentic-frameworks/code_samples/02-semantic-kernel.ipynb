{
  "cells": [
    {
      "cell_type": "markdown",
      "metadata": {
        "id": "view-in-github",
        "colab_type": "text"
      },
      "source": [
        "<a href=\"https://colab.research.google.com/github/pgupta1980/ai-agents-for-beginners/blob/main/02-explore-agentic-frameworks/code_samples/02-semantic-kernel.ipynb\" target=\"_parent\"><img src=\"https://colab.research.google.com/assets/colab-badge.svg\" alt=\"Open In Colab\"/></a>"
      ]
    },
    {
      "cell_type": "markdown",
      "metadata": {
        "id": "us7OMCn4fiRc"
      },
      "source": [
        "# Semantic Kernel\n",
        "\n",
        "In this code sample, you will use the [Semantic Kernel](https://aka.ms/ai-agents-beginners/semantic-kernel) AI Framework to create a basic agent.\n",
        "\n",
        "The goal of this sample is to show you the steps that we will later use in the addtional code samples when implementing the different agentic patterns."
      ]
    },
    {
      "cell_type": "markdown",
      "metadata": {
        "id": "_yIpU2-AfiRd"
      },
      "source": [
        "## Import the Needed Python Packages"
      ]
    },
    {
      "cell_type": "code",
      "source": [
        "!pip install autogen autogen-agentchat autogen-ext[openai] autogen-ext[azure] azure-ai-ml azure-ai-projects semantic-kernel"
      ],
      "metadata": {
        "colab": {
          "base_uri": "https://localhost:8080/",
          "height": 1000
        },
        "id": "lPisV_Sufn58",
        "outputId": "107cb689-41fb-4408-f9e4-6aa9906bde7a"
      },
      "execution_count": 2,
      "outputs": [
        {
          "output_type": "stream",
          "name": "stdout",
          "text": [
            "Requirement already satisfied: autogen in /usr/local/lib/python3.11/dist-packages (0.8.0)\n",
            "Requirement already satisfied: autogen-agentchat in /usr/local/lib/python3.11/dist-packages (0.4.8.2)\n",
            "Requirement already satisfied: azure-ai-ml in /usr/local/lib/python3.11/dist-packages (1.25.0)\n",
            "Collecting azure-ai-projects\n",
            "  Downloading azure_ai_projects-1.0.0b6-py3-none-any.whl.metadata (12 kB)\n",
            "Requirement already satisfied: semantic-kernel in /usr/local/lib/python3.11/dist-packages (1.23.1)\n",
            "Requirement already satisfied: autogen-ext[openai] in /usr/local/lib/python3.11/dist-packages (0.4.8.2)\n",
            "Requirement already satisfied: pyautogen==0.8.0 in /usr/local/lib/python3.11/dist-packages (from autogen) (0.8.0)\n",
            "Requirement already satisfied: asyncer==0.0.8 in /usr/local/lib/python3.11/dist-packages (from pyautogen==0.8.0->autogen) (0.0.8)\n",
            "Requirement already satisfied: diskcache in /usr/local/lib/python3.11/dist-packages (from pyautogen==0.8.0->autogen) (5.6.3)\n",
            "Requirement already satisfied: docker in /usr/local/lib/python3.11/dist-packages (from pyautogen==0.8.0->autogen) (7.1.0)\n",
            "Requirement already satisfied: fast-depends<3,>=2.4.12 in /usr/local/lib/python3.11/dist-packages (from pyautogen==0.8.0->autogen) (2.4.12)\n",
            "Requirement already satisfied: httpx<1,>=0.28.1 in /usr/local/lib/python3.11/dist-packages (from pyautogen==0.8.0->autogen) (0.28.1)\n",
            "Requirement already satisfied: packaging in /usr/local/lib/python3.11/dist-packages (from pyautogen==0.8.0->autogen) (24.2)\n",
            "Requirement already satisfied: pydantic<3,>=2.6.1 in /usr/local/lib/python3.11/dist-packages (from pyautogen==0.8.0->autogen) (2.10.6)\n",
            "Requirement already satisfied: python-dotenv in /usr/local/lib/python3.11/dist-packages (from pyautogen==0.8.0->autogen) (1.0.1)\n",
            "Requirement already satisfied: termcolor in /usr/local/lib/python3.11/dist-packages (from pyautogen==0.8.0->autogen) (2.5.0)\n",
            "Requirement already satisfied: tiktoken in /usr/local/lib/python3.11/dist-packages (from pyautogen==0.8.0->autogen) (0.9.0)\n",
            "Requirement already satisfied: anyio<5.0,>=3.4.0 in /usr/local/lib/python3.11/dist-packages (from asyncer==0.0.8->pyautogen==0.8.0->autogen) (3.7.1)\n",
            "Requirement already satisfied: autogen-core==0.4.8.2 in /usr/local/lib/python3.11/dist-packages (from autogen-agentchat) (0.4.8.2)\n",
            "Requirement already satisfied: jsonref~=1.1.0 in /usr/local/lib/python3.11/dist-packages (from autogen-core==0.4.8.2->autogen-agentchat) (1.1.0)\n",
            "Requirement already satisfied: opentelemetry-api>=1.27.0 in /usr/local/lib/python3.11/dist-packages (from autogen-core==0.4.8.2->autogen-agentchat) (1.30.0)\n",
            "Requirement already satisfied: pillow>=11.0.0 in /usr/local/lib/python3.11/dist-packages (from autogen-core==0.4.8.2->autogen-agentchat) (11.1.0)\n",
            "Requirement already satisfied: protobuf~=5.29.3 in /usr/local/lib/python3.11/dist-packages (from autogen-core==0.4.8.2->autogen-agentchat) (5.29.3)\n",
            "Requirement already satisfied: typing-extensions>=4.0.0 in /usr/local/lib/python3.11/dist-packages (from autogen-core==0.4.8.2->autogen-agentchat) (4.12.2)\n",
            "Requirement already satisfied: aiofiles in /usr/local/lib/python3.11/dist-packages (from autogen-ext[openai]) (24.1.0)\n",
            "Requirement already satisfied: openai>=1.52.2 in /usr/local/lib/python3.11/dist-packages (from autogen-ext[openai]) (1.61.1)\n",
            "Requirement already satisfied: azure-ai-inference>=1.0.0b7 in /usr/local/lib/python3.11/dist-packages (from autogen-ext[azure]) (1.0.0b9)\n",
            "Requirement already satisfied: azure-core in /usr/local/lib/python3.11/dist-packages (from autogen-ext[azure]) (1.32.0)\n",
            "Requirement already satisfied: azure-identity in /usr/local/lib/python3.11/dist-packages (from autogen-ext[azure]) (1.20.0)\n",
            "Requirement already satisfied: pyyaml>=5.1.0 in /usr/local/lib/python3.11/dist-packages (from azure-ai-ml) (6.0.2)\n",
            "Requirement already satisfied: msrest>=0.6.18 in /usr/local/lib/python3.11/dist-packages (from azure-ai-ml) (0.7.1)\n",
            "Requirement already satisfied: azure-mgmt-core>=1.3.0 in /usr/local/lib/python3.11/dist-packages (from azure-ai-ml) (1.5.0)\n",
            "Requirement already satisfied: marshmallow>=3.5 in /usr/local/lib/python3.11/dist-packages (from azure-ai-ml) (3.26.1)\n",
            "Requirement already satisfied: jsonschema>=4.0.0 in /usr/local/lib/python3.11/dist-packages (from azure-ai-ml) (4.23.0)\n",
            "Requirement already satisfied: tqdm in /usr/local/lib/python3.11/dist-packages (from azure-ai-ml) (4.67.1)\n",
            "Requirement already satisfied: strictyaml in /usr/local/lib/python3.11/dist-packages (from azure-ai-ml) (1.7.3)\n",
            "Requirement already satisfied: colorama in /usr/local/lib/python3.11/dist-packages (from azure-ai-ml) (0.4.6)\n",
            "Requirement already satisfied: pyjwt in /usr/local/lib/python3.11/dist-packages (from azure-ai-ml) (2.10.1)\n",
            "Requirement already satisfied: azure-storage-blob>=12.10.0 in /usr/local/lib/python3.11/dist-packages (from azure-ai-ml) (12.24.1)\n",
            "Requirement already satisfied: azure-storage-file-share in /usr/local/lib/python3.11/dist-packages (from azure-ai-ml) (12.20.1)\n",
            "Requirement already satisfied: azure-storage-file-datalake>=12.2.0 in /usr/local/lib/python3.11/dist-packages (from azure-ai-ml) (12.18.1)\n",
            "Requirement already satisfied: pydash>=6.0.0 in /usr/local/lib/python3.11/dist-packages (from azure-ai-ml) (8.0.5)\n",
            "Requirement already satisfied: isodate in /usr/local/lib/python3.11/dist-packages (from azure-ai-ml) (0.7.2)\n",
            "Requirement already satisfied: azure-common>=1.1 in /usr/local/lib/python3.11/dist-packages (from azure-ai-ml) (1.1.28)\n",
            "Requirement already satisfied: azure-monitor-opentelemetry in /usr/local/lib/python3.11/dist-packages (from azure-ai-ml) (1.6.5)\n",
            "Requirement already satisfied: aiohttp~=3.8 in /usr/local/lib/python3.11/dist-packages (from semantic-kernel) (3.11.13)\n",
            "Requirement already satisfied: cloudevents~=1.0 in /usr/local/lib/python3.11/dist-packages (from semantic-kernel) (1.11.0)\n",
            "Requirement already satisfied: pydantic-settings~=2.0 in /usr/local/lib/python3.11/dist-packages (from semantic-kernel) (2.8.1)\n",
            "Requirement already satisfied: defusedxml~=0.7 in /usr/local/lib/python3.11/dist-packages (from semantic-kernel) (0.7.1)\n",
            "Requirement already satisfied: numpy>=1.25.0 in /usr/local/lib/python3.11/dist-packages (from semantic-kernel) (1.26.4)\n",
            "Requirement already satisfied: openapi_core<0.20,>=0.18 in /usr/local/lib/python3.11/dist-packages (from semantic-kernel) (0.19.4)\n",
            "Requirement already satisfied: websockets<15,>=13 in /usr/local/lib/python3.11/dist-packages (from semantic-kernel) (14.2)\n",
            "Requirement already satisfied: aiortc>=1.9.0 in /usr/local/lib/python3.11/dist-packages (from semantic-kernel) (1.10.1)\n",
            "Requirement already satisfied: opentelemetry-sdk~=1.24 in /usr/local/lib/python3.11/dist-packages (from semantic-kernel) (1.30.0)\n",
            "Requirement already satisfied: prance~=23.6.21.0 in /usr/local/lib/python3.11/dist-packages (from semantic-kernel) (23.6.21.0)\n",
            "Requirement already satisfied: pybars4~=0.9 in /usr/local/lib/python3.11/dist-packages (from semantic-kernel) (0.9.13)\n",
            "Requirement already satisfied: jinja2~=3.1 in /usr/local/lib/python3.11/dist-packages (from semantic-kernel) (3.1.5)\n",
            "Requirement already satisfied: nest-asyncio~=1.6 in /usr/local/lib/python3.11/dist-packages (from semantic-kernel) (1.6.0)\n",
            "Requirement already satisfied: scipy>=1.15.1 in /usr/local/lib/python3.11/dist-packages (from semantic-kernel) (1.15.2)\n",
            "Requirement already satisfied: aiohappyeyeballs>=2.3.0 in /usr/local/lib/python3.11/dist-packages (from aiohttp~=3.8->semantic-kernel) (2.4.6)\n",
            "Requirement already satisfied: aiosignal>=1.1.2 in /usr/local/lib/python3.11/dist-packages (from aiohttp~=3.8->semantic-kernel) (1.3.2)\n",
            "Requirement already satisfied: attrs>=17.3.0 in /usr/local/lib/python3.11/dist-packages (from aiohttp~=3.8->semantic-kernel) (25.1.0)\n",
            "Requirement already satisfied: frozenlist>=1.1.1 in /usr/local/lib/python3.11/dist-packages (from aiohttp~=3.8->semantic-kernel) (1.5.0)\n",
            "Requirement already satisfied: multidict<7.0,>=4.5 in /usr/local/lib/python3.11/dist-packages (from aiohttp~=3.8->semantic-kernel) (6.1.0)\n",
            "Requirement already satisfied: propcache>=0.2.0 in /usr/local/lib/python3.11/dist-packages (from aiohttp~=3.8->semantic-kernel) (0.3.0)\n",
            "Requirement already satisfied: yarl<2.0,>=1.17.0 in /usr/local/lib/python3.11/dist-packages (from aiohttp~=3.8->semantic-kernel) (1.18.3)\n",
            "Requirement already satisfied: aioice<1.0.0,>=0.9.0 in /usr/local/lib/python3.11/dist-packages (from aiortc>=1.9.0->semantic-kernel) (0.9.0)\n",
            "Requirement already satisfied: av<14.0.0,>=9.0.0 in /usr/local/lib/python3.11/dist-packages (from aiortc>=1.9.0->semantic-kernel) (13.1.0)\n",
            "Requirement already satisfied: cffi>=1.0.0 in /usr/local/lib/python3.11/dist-packages (from aiortc>=1.9.0->semantic-kernel) (1.17.1)\n",
            "Requirement already satisfied: cryptography>=42.0.0 in /usr/local/lib/python3.11/dist-packages (from aiortc>=1.9.0->semantic-kernel) (43.0.3)\n",
            "Requirement already satisfied: google-crc32c>=1.1 in /usr/local/lib/python3.11/dist-packages (from aiortc>=1.9.0->semantic-kernel) (1.6.0)\n",
            "Requirement already satisfied: pyee>=9.0.0 in /usr/local/lib/python3.11/dist-packages (from aiortc>=1.9.0->semantic-kernel) (12.1.1)\n",
            "Requirement already satisfied: pylibsrtp>=0.10.0 in /usr/local/lib/python3.11/dist-packages (from aiortc>=1.9.0->semantic-kernel) (0.11.0)\n",
            "Requirement already satisfied: pyopenssl>=24.0.0 in /usr/local/lib/python3.11/dist-packages (from aiortc>=1.9.0->semantic-kernel) (24.2.1)\n",
            "Requirement already satisfied: requests>=2.21.0 in /usr/local/lib/python3.11/dist-packages (from azure-core->autogen-ext[azure]) (2.32.3)\n",
            "Requirement already satisfied: six>=1.11.0 in /usr/local/lib/python3.11/dist-packages (from azure-core->autogen-ext[azure]) (1.17.0)\n",
            "Requirement already satisfied: msal>=1.30.0 in /usr/local/lib/python3.11/dist-packages (from azure-identity->autogen-ext[azure]) (1.31.1)\n",
            "Requirement already satisfied: msal-extensions>=1.2.0 in /usr/local/lib/python3.11/dist-packages (from azure-identity->autogen-ext[azure]) (1.2.0)\n",
            "Requirement already satisfied: deprecation<3.0,>=2.0 in /usr/local/lib/python3.11/dist-packages (from cloudevents~=1.0->semantic-kernel) (2.1.0)\n",
            "Requirement already satisfied: MarkupSafe>=2.0 in /usr/local/lib/python3.11/dist-packages (from jinja2~=3.1->semantic-kernel) (3.0.2)\n",
            "Requirement already satisfied: jsonschema-specifications>=2023.03.6 in /usr/local/lib/python3.11/dist-packages (from jsonschema>=4.0.0->azure-ai-ml) (2024.10.1)\n",
            "Requirement already satisfied: referencing>=0.28.4 in /usr/local/lib/python3.11/dist-packages (from jsonschema>=4.0.0->azure-ai-ml) (0.36.2)\n",
            "Requirement already satisfied: rpds-py>=0.7.1 in /usr/local/lib/python3.11/dist-packages (from jsonschema>=4.0.0->azure-ai-ml) (0.23.1)\n",
            "Requirement already satisfied: certifi>=2017.4.17 in /usr/local/lib/python3.11/dist-packages (from msrest>=0.6.18->azure-ai-ml) (2025.1.31)\n",
            "Requirement already satisfied: requests-oauthlib>=0.5.0 in /usr/local/lib/python3.11/dist-packages (from msrest>=0.6.18->azure-ai-ml) (2.0.0)\n",
            "Requirement already satisfied: distro<2,>=1.7.0 in /usr/local/lib/python3.11/dist-packages (from openai>=1.52.2->autogen-ext[openai]) (1.9.0)\n",
            "Requirement already satisfied: jiter<1,>=0.4.0 in /usr/local/lib/python3.11/dist-packages (from openai>=1.52.2->autogen-ext[openai]) (0.8.2)\n",
            "Requirement already satisfied: sniffio in /usr/local/lib/python3.11/dist-packages (from openai>=1.52.2->autogen-ext[openai]) (1.3.1)\n",
            "Requirement already satisfied: jsonschema-path<0.4.0,>=0.3.1 in /usr/local/lib/python3.11/dist-packages (from openapi_core<0.20,>=0.18->semantic-kernel) (0.3.4)\n",
            "Requirement already satisfied: more-itertools in /usr/local/lib/python3.11/dist-packages (from openapi_core<0.20,>=0.18->semantic-kernel) (10.6.0)\n",
            "Requirement already satisfied: openapi-schema-validator<0.7.0,>=0.6.0 in /usr/local/lib/python3.11/dist-packages (from openapi_core<0.20,>=0.18->semantic-kernel) (0.6.3)\n",
            "Requirement already satisfied: openapi-spec-validator<0.8.0,>=0.7.1 in /usr/local/lib/python3.11/dist-packages (from openapi_core<0.20,>=0.18->semantic-kernel) (0.7.1)\n",
            "Requirement already satisfied: parse in /usr/local/lib/python3.11/dist-packages (from openapi_core<0.20,>=0.18->semantic-kernel) (1.20.2)\n",
            "Requirement already satisfied: werkzeug in /usr/local/lib/python3.11/dist-packages (from openapi_core<0.20,>=0.18->semantic-kernel) (3.1.3)\n",
            "Requirement already satisfied: deprecated>=1.2.6 in /usr/local/lib/python3.11/dist-packages (from opentelemetry-api>=1.27.0->autogen-core==0.4.8.2->autogen-agentchat) (1.2.18)\n",
            "Requirement already satisfied: importlib-metadata<=8.5.0,>=6.0 in /usr/local/lib/python3.11/dist-packages (from opentelemetry-api>=1.27.0->autogen-core==0.4.8.2->autogen-agentchat) (8.5.0)\n",
            "Requirement already satisfied: opentelemetry-semantic-conventions==0.51b0 in /usr/local/lib/python3.11/dist-packages (from opentelemetry-sdk~=1.24->semantic-kernel) (0.51b0)\n",
            "Requirement already satisfied: chardet>=3.0 in /usr/local/lib/python3.11/dist-packages (from prance~=23.6.21.0->semantic-kernel) (5.2.0)\n",
            "Requirement already satisfied: ruamel.yaml>=0.17.10 in /usr/local/lib/python3.11/dist-packages (from prance~=23.6.21.0->semantic-kernel) (0.18.10)\n",
            "Requirement already satisfied: PyMeta3>=0.5.1 in /usr/local/lib/python3.11/dist-packages (from pybars4~=0.9->semantic-kernel) (0.5.1)\n",
            "Requirement already satisfied: annotated-types>=0.6.0 in /usr/local/lib/python3.11/dist-packages (from pydantic<3,>=2.6.1->pyautogen==0.8.0->autogen) (0.7.0)\n",
            "Requirement already satisfied: pydantic-core==2.27.2 in /usr/local/lib/python3.11/dist-packages (from pydantic<3,>=2.6.1->pyautogen==0.8.0->autogen) (2.27.2)\n",
            "Requirement already satisfied: regex>=2022.1.18 in /usr/local/lib/python3.11/dist-packages (from tiktoken->pyautogen==0.8.0->autogen) (2024.11.6)\n",
            "Requirement already satisfied: azure-core-tracing-opentelemetry~=1.0.0b11 in /usr/local/lib/python3.11/dist-packages (from azure-monitor-opentelemetry->azure-ai-ml) (1.0.0b11)\n",
            "Requirement already satisfied: azure-monitor-opentelemetry-exporter~=1.0.0b31 in /usr/local/lib/python3.11/dist-packages (from azure-monitor-opentelemetry->azure-ai-ml) (1.0.0b35)\n",
            "Requirement already satisfied: opentelemetry-instrumentation-django~=0.49b0 in /usr/local/lib/python3.11/dist-packages (from azure-monitor-opentelemetry->azure-ai-ml) (0.51b0)\n",
            "Requirement already satisfied: opentelemetry-instrumentation-fastapi~=0.49b0 in /usr/local/lib/python3.11/dist-packages (from azure-monitor-opentelemetry->azure-ai-ml) (0.51b0)\n",
            "Requirement already satisfied: opentelemetry-instrumentation-flask~=0.49b0 in /usr/local/lib/python3.11/dist-packages (from azure-monitor-opentelemetry->azure-ai-ml) (0.51b0)\n",
            "Requirement already satisfied: opentelemetry-instrumentation-psycopg2~=0.49b0 in /usr/local/lib/python3.11/dist-packages (from azure-monitor-opentelemetry->azure-ai-ml) (0.51b0)\n",
            "Requirement already satisfied: opentelemetry-instrumentation-requests~=0.49b0 in /usr/local/lib/python3.11/dist-packages (from azure-monitor-opentelemetry->azure-ai-ml) (0.51b0)\n",
            "Requirement already satisfied: opentelemetry-instrumentation-urllib~=0.49b0 in /usr/local/lib/python3.11/dist-packages (from azure-monitor-opentelemetry->azure-ai-ml) (0.51b0)\n",
            "Requirement already satisfied: opentelemetry-instrumentation-urllib3~=0.49b0 in /usr/local/lib/python3.11/dist-packages (from azure-monitor-opentelemetry->azure-ai-ml) (0.51b0)\n",
            "Requirement already satisfied: opentelemetry-resource-detector-azure~=0.1.4 in /usr/local/lib/python3.11/dist-packages (from azure-monitor-opentelemetry->azure-ai-ml) (0.1.5)\n",
            "Requirement already satisfied: python-dateutil>=2.6.0 in /usr/local/lib/python3.11/dist-packages (from strictyaml->azure-ai-ml) (2.8.2)\n",
            "Requirement already satisfied: dnspython>=2.0.0 in /usr/local/lib/python3.11/dist-packages (from aioice<1.0.0,>=0.9.0->aiortc>=1.9.0->semantic-kernel) (2.7.0)\n",
            "Requirement already satisfied: ifaddr>=0.2.0 in /usr/local/lib/python3.11/dist-packages (from aioice<1.0.0,>=0.9.0->aiortc>=1.9.0->semantic-kernel) (0.2.0)\n",
            "Requirement already satisfied: idna>=2.8 in /usr/local/lib/python3.11/dist-packages (from anyio<5.0,>=3.4.0->asyncer==0.0.8->pyautogen==0.8.0->autogen) (3.10)\n",
            "Requirement already satisfied: fixedint==0.1.6 in /usr/local/lib/python3.11/dist-packages (from azure-monitor-opentelemetry-exporter~=1.0.0b31->azure-monitor-opentelemetry->azure-ai-ml) (0.1.6)\n",
            "Requirement already satisfied: psutil<7,>=5.9 in /usr/local/lib/python3.11/dist-packages (from azure-monitor-opentelemetry-exporter~=1.0.0b31->azure-monitor-opentelemetry->azure-ai-ml) (5.9.5)\n",
            "Requirement already satisfied: pycparser in /usr/local/lib/python3.11/dist-packages (from cffi>=1.0.0->aiortc>=1.9.0->semantic-kernel) (2.22)\n",
            "Requirement already satisfied: wrapt<2,>=1.10 in /usr/local/lib/python3.11/dist-packages (from deprecated>=1.2.6->opentelemetry-api>=1.27.0->autogen-core==0.4.8.2->autogen-agentchat) (1.17.2)\n",
            "Requirement already satisfied: httpcore==1.* in /usr/local/lib/python3.11/dist-packages (from httpx<1,>=0.28.1->pyautogen==0.8.0->autogen) (1.0.7)\n",
            "Requirement already satisfied: h11<0.15,>=0.13 in /usr/local/lib/python3.11/dist-packages (from httpcore==1.*->httpx<1,>=0.28.1->pyautogen==0.8.0->autogen) (0.14.0)\n",
            "Requirement already satisfied: zipp>=3.20 in /usr/local/lib/python3.11/dist-packages (from importlib-metadata<=8.5.0,>=6.0->opentelemetry-api>=1.27.0->autogen-core==0.4.8.2->autogen-agentchat) (3.21.0)\n",
            "Requirement already satisfied: pathable<0.5.0,>=0.4.1 in /usr/local/lib/python3.11/dist-packages (from jsonschema-path<0.4.0,>=0.3.1->openapi_core<0.20,>=0.18->semantic-kernel) (0.4.4)\n",
            "Requirement already satisfied: portalocker<3,>=1.4 in /usr/local/lib/python3.11/dist-packages (from msal-extensions>=1.2.0->azure-identity->autogen-ext[azure]) (2.10.1)\n",
            "Requirement already satisfied: rfc3339-validator in /usr/local/lib/python3.11/dist-packages (from openapi-schema-validator<0.7.0,>=0.6.0->openapi_core<0.20,>=0.18->semantic-kernel) (0.1.4)\n",
            "Requirement already satisfied: lazy-object-proxy<2.0.0,>=1.7.1 in /usr/local/lib/python3.11/dist-packages (from openapi-spec-validator<0.8.0,>=0.7.1->openapi_core<0.20,>=0.18->semantic-kernel) (1.10.0)\n",
            "Requirement already satisfied: opentelemetry-instrumentation-wsgi==0.51b0 in /usr/local/lib/python3.11/dist-packages (from opentelemetry-instrumentation-django~=0.49b0->azure-monitor-opentelemetry->azure-ai-ml) (0.51b0)\n",
            "Requirement already satisfied: opentelemetry-instrumentation==0.51b0 in /usr/local/lib/python3.11/dist-packages (from opentelemetry-instrumentation-django~=0.49b0->azure-monitor-opentelemetry->azure-ai-ml) (0.51b0)\n",
            "Requirement already satisfied: opentelemetry-util-http==0.51b0 in /usr/local/lib/python3.11/dist-packages (from opentelemetry-instrumentation-django~=0.49b0->azure-monitor-opentelemetry->azure-ai-ml) (0.51b0)\n",
            "Requirement already satisfied: opentelemetry-instrumentation-asgi==0.51b0 in /usr/local/lib/python3.11/dist-packages (from opentelemetry-instrumentation-fastapi~=0.49b0->azure-monitor-opentelemetry->azure-ai-ml) (0.51b0)\n",
            "Requirement already satisfied: asgiref~=3.0 in /usr/local/lib/python3.11/dist-packages (from opentelemetry-instrumentation-asgi==0.51b0->opentelemetry-instrumentation-fastapi~=0.49b0->azure-monitor-opentelemetry->azure-ai-ml) (3.8.1)\n",
            "Requirement already satisfied: opentelemetry-instrumentation-dbapi==0.51b0 in /usr/local/lib/python3.11/dist-packages (from opentelemetry-instrumentation-psycopg2~=0.49b0->azure-monitor-opentelemetry->azure-ai-ml) (0.51b0)\n",
            "Requirement already satisfied: charset-normalizer<4,>=2 in /usr/local/lib/python3.11/dist-packages (from requests>=2.21.0->azure-core->autogen-ext[azure]) (3.4.1)\n",
            "Requirement already satisfied: urllib3<3,>=1.21.1 in /usr/local/lib/python3.11/dist-packages (from requests>=2.21.0->azure-core->autogen-ext[azure]) (2.3.0)\n",
            "Requirement already satisfied: oauthlib>=3.0.0 in /usr/local/lib/python3.11/dist-packages (from requests-oauthlib>=0.5.0->msrest>=0.6.18->azure-ai-ml) (3.2.2)\n",
            "Requirement already satisfied: ruamel.yaml.clib>=0.2.7 in /usr/local/lib/python3.11/dist-packages (from ruamel.yaml>=0.17.10->prance~=23.6.21.0->semantic-kernel) (0.2.12)\n",
            "Downloading azure_ai_projects-1.0.0b6-py3-none-any.whl (187 kB)\n",
            "\u001b[2K   \u001b[90m━━━━━━━━━━━━━━━━━━━━━━━━━━━━━━━━━━━━━━━━\u001b[0m \u001b[32m187.2/187.2 kB\u001b[0m \u001b[31m2.7 MB/s\u001b[0m eta \u001b[36m0:00:00\u001b[0m\n",
            "\u001b[?25hInstalling collected packages: azure-ai-projects\n",
            "Successfully installed azure-ai-projects-1.0.0b6\n"
          ]
        },
        {
          "output_type": "display_data",
          "data": {
            "application/vnd.colab-display-data+json": {
              "pip_warning": {
                "packages": [
                  "azure"
                ]
              },
              "id": "a9eb7ec64a97445cbaddd0424a5309a8"
            }
          },
          "metadata": {}
        }
      ]
    },
    {
      "cell_type": "code",
      "execution_count": 1,
      "metadata": {
        "id": "sDemM1defiRe"
      },
      "outputs": [],
      "source": [
        "import asyncio\n",
        "import os\n",
        "import asyncio\n",
        "\n",
        "from typing import Annotated\n",
        "from openai import AsyncOpenAI\n",
        "\n",
        "from semantic_kernel.kernel import Kernel\n",
        "from semantic_kernel.connectors.ai.open_ai import OpenAIChatCompletion\n",
        "from semantic_kernel.agents import ChatCompletionAgent\n",
        "from semantic_kernel.contents import ChatHistory\n",
        "\n",
        "from semantic_kernel.agents.open_ai import OpenAIAssistantAgent\n",
        "from semantic_kernel.contents import AuthorRole, ChatMessageContent\n",
        "from semantic_kernel.functions import kernel_function"
      ]
    },
    {
      "cell_type": "markdown",
      "metadata": {
        "id": "YvsA92TcfiRf"
      },
      "source": [
        "## Creating the Client and Kernel\n",
        "\n",
        "In this sample, we will use [GitHub Models](https://aka.ms/ai-agents-beginners/github-models) for access to the LLM.\n",
        "\n",
        "The `ai_model_id` is defined as `gpt-4o-mini`. Try changing the model to another model available on the GitHub Models marketplace to see the different results.\n",
        "\n",
        "For us to us the `Azure Inference SDK` that is used for the `base_url` for GitHub Models, we will use the `AsyncOpenAI` connector within Semantic Kernel. There are also other [available connectors](https://learn.microsoft.com/semantic-kernel/concepts/ai-services/chat-completion) to use Semantic Kernel for other model providers.\n",
        "\n",
        "We will also create a `Kernel`. A `kernel` is a collection of the services and plugins that will be used by your Agents. In this snipppet, we are creating the kernel and adding the `chat_completion_service` to it.  "
      ]
    },
    {
      "cell_type": "code",
      "execution_count": 7,
      "metadata": {
        "id": "kYP-VbZ7fiRg"
      },
      "outputs": [],
      "source": [
        "client = AsyncOpenAI(\n",
        "    api_key=os.environ[\"GITHUB_TOKEN\"], base_url=\"https://models.inference.ai.azure.com/\")\n",
        "\n",
        "kernel = Kernel()\n",
        "chat_completion_service = OpenAIChatCompletion(\n",
        "    ai_model_id=\"gpt-4o-mini\",\n",
        "    async_client=client,\n",
        "    service_id=\"agent\",\n",
        ")\n",
        "kernel.add_service(chat_completion_service)"
      ]
    },
    {
      "cell_type": "markdown",
      "metadata": {
        "id": "yYCxywPpfiRg"
      },
      "source": [
        "## Creating the Agent\n",
        "\n",
        "Below we will are creating the Agent called `TravelAgent` and also creating a variable called `AGENT_INSTRUCTIONS`. We will later add this to our `system_message` that will give the agent instructions on the task, behavior and tone.\n",
        "\n",
        "For this example, we are using very simple instructions. You can change these instructions to see how the agent responds differently."
      ]
    },
    {
      "cell_type": "code",
      "execution_count": 14,
      "metadata": {
        "id": "nmLlNcqQfiRg"
      },
      "outputs": [],
      "source": [
        "AGENT_NAME = \"TravelAgent\"\n",
        "AGENT_INSTRUCTIONS = \"You are a helpful AI Agent that can help plan vacations for customers\"\n",
        "\n",
        "# agent = ChatCompletionAgent(service_id=\"agent\", kernel=kernel, name=AGENT_NAME)\n",
        "agent = ChatCompletionAgent(id=\"agent\", kernel=kernel, name=AGENT_NAME)"
      ]
    },
    {
      "cell_type": "markdown",
      "metadata": {
        "id": "uXvfjsUMfiRh"
      },
      "source": [
        "## Running the Agents\n",
        "\n",
        "Now we can run the Agent by defining the `ChatHistory` and adding the `system_message` to it. We will use the `AGENT_INSTRUCTIONS` that we defined earlier.\n",
        "\n",
        "After these are defined, we create a `user_inputs` that will be what the user is sending to the agent. In this case, we have set this message to `Plan me a sunny vacation`.\n",
        "\n",
        "Feel free to change this message to see how the agent responds differently."
      ]
    },
    {
      "cell_type": "code",
      "execution_count": 16,
      "metadata": {
        "colab": {
          "base_uri": "https://localhost:8080/"
        },
        "id": "GzU3fANSfiRh",
        "outputId": "ff71eba3-c9a0-41f7-cf35-2222e083e454"
      },
      "outputs": [
        {
          "output_type": "stream",
          "name": "stdout",
          "text": [
            "# User: 'Plan me an ancient American vaction (20000 B.C.-12000 B.C.)'\n",
            "# Agent - TravelAgent: 'Planning a vacation to explore ancient America during the timeframe of 20,000 B.C. to 12,000 B.C. is certainly an intriguing concept, considering that this period falls within the late Pleistocene era and is not typically associated with traditional vacation spots. Given that human activity was limited during this time, efforts will focus on the natural landscapes and experiences that could have been present during this ancient era. Here's a conceptual plan emphasizing natural wonders and historical significance in areas that correlate with ancient American life:\n",
            "\n",
            "### **Vacation Itinerary: Ancient American Experience**\n",
            "\n",
            "**Duration**: 7 Days  \n",
            "**Destination**: Areas of the United States that hold significant ancient archaeological importance. \n",
            "\n",
            "---\n",
            "\n",
            "### **Day 1: Arrival in Alaska**\n",
            "\n",
            "- **Accommodations**: Book a rustic lodge in Anchorage.\n",
            "- **Activities**:\n",
            "  - Visit the **Alaska Native Heritage Center** to understand the early inhabitants and their lifestyles.\n",
            "  - Take a guided tour to see ancient artifacts dating back thousands of years.\n",
            "\n",
            "### **Day 2: Kenai Peninsula and Glacial Terrain**\n",
            "\n",
            "- **Activities**:\n",
            "  - Explore the **Kenai Fjords National Park** to witness glaciers. Imagine the landscape as it might have appeared during the late Pleistocene.\n",
            "  - Learn about the area's ancient inhabitants, including the evidence of prehistoric migration.\n",
            "\n",
            "### **Day 3: Great Plains Exploration**\n",
            "\n",
            "- **Travel**: Fly to South Dakota.\n",
            "- **Accommodations**: Stay near Badlands National Park.\n",
            "- **Activities**:\n",
            "  - Explore the **Badlands**, known for its fossils and prehistoric wildlife. Consider guided tours that discuss the Pleistocene Epoch.\n",
            "  - Visit the **Oglala Lakota Heritage Center** to engage with indigenous stories and cultures.\n",
            "\n",
            "### **Day 4: Rocky Mountain National Park**\n",
            "\n",
            "- **Travel**: Drive to Colorado.\n",
            "- **Activities**:\n",
            "  - Hike in **Rocky Mountain National Park**, taking in the flora and fauna that have evolved since the Pleistocene.\n",
            "  - Attend a ranger-led program on the geological history and early human footprints in the area.\n",
            "\n",
            "### **Day 5: The Great Lakes Region**\n",
            "\n",
            "- **Travel**: Fly to Michigan.\n",
            "- **Accommodations**: Stay in a cabin near Lake Michigan.\n",
            "- **Activities**:\n",
            "  - Explore **Mackinac Island State Park** to view geological formations and landscapes similar to those from thousands of years ago.\n",
            "  - Attend any workshops on early Native American culture and their interaction with the natural environment.\n",
            "\n",
            "### **Day 6: The Southwest - Desert Landscapes**\n",
            "\n",
            "- **Travel**: Fly to Arizona.\n",
            "- **Accommodations**: Hotel in Sedona.\n",
            "- **Activities**:\n",
            "  - Visit **Tonto Natural Bridge** and the surrounding areas, imagining the ancient landscapes that supported early human life.\n",
            "  - Evening stargazing to connect with the celestial navigation methods that early peoples might have used.\n",
            "\n",
            "### **Day 7: Reflection and Departure**\n",
            "\n",
            "- **Activities**:\n",
            "  - Start your day with a reflective hike and consider the changes in the landscapes over millennia.\n",
            "  - Visit the **Museum of Northern Arizona** to view ancient artifacts and learn about the migration patterns.\n",
            "- **Departure**: Fly home.\n",
            "\n",
            "--- \n",
            "\n",
            "### **Travel Tips**:\n",
            "- **Prepare for Various Weather Conditions**: Given the diverse climates from Alaska to Arizona, pack accordingly.\n",
            "- **Research Local Guidelines and Histories**: Respect and understand the cultural heritage and significance of the sites you visit.\n",
            "- **Engage with Local Guides**: Find experts in indigenous histories who can provide deeper insights into the ancient landscapes.\n",
            "\n",
            "This conceptual vacation focuses on immersing you in the significant terrains and cultures present during ancient American eras while engaging with the environments that shaped the lives of early inhabitants.'\n"
          ]
        }
      ],
      "source": [
        "async def main():\n",
        "    # Define the chat history\n",
        "    chat_history = ChatHistory()\n",
        "    chat_history.add_system_message(AGENT_INSTRUCTIONS)\n",
        "\n",
        "    user_inputs = [\n",
        "        \"Plan me an ancient American vaction (20000 B.C.-12000 B.C.)\",\n",
        "    ]\n",
        "    for user_input in user_inputs:\n",
        "        # Add the user input to the chat history\n",
        "        chat_history.add_user_message(user_input)\n",
        "        print(f\"# User: '{user_input}'\")\n",
        "        # Invoke the agent to get a response\n",
        "        async for content in agent.invoke(chat_history):\n",
        "            # Add the response to the chat history\n",
        "            chat_history.add_message(content)\n",
        "            print(f\"# Agent - {content.name or '*'}: '{content.content}'\")\n",
        "\n",
        "# For Jupyter notebooks, use this instead of asyncio.run():\n",
        "await main()"
      ]
    }
  ],
  "metadata": {
    "kernelspec": {
      "display_name": ".venv",
      "language": "python",
      "name": "python3"
    },
    "language_info": {
      "codemirror_mode": {
        "name": "ipython",
        "version": 3
      },
      "file_extension": ".py",
      "mimetype": "text/x-python",
      "name": "python",
      "nbconvert_exporter": "python",
      "pygments_lexer": "ipython3",
      "version": "3.13.1"
    },
    "colab": {
      "provenance": [],
      "include_colab_link": true
    }
  },
  "nbformat": 4,
  "nbformat_minor": 0
}